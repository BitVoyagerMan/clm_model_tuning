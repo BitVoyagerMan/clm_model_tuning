{
 "cells": [
  {
   "cell_type": "code",
   "execution_count": 9,
   "id": "2c8abc31",
   "metadata": {},
   "outputs": [],
   "source": [
    "import bittensor\n",
    "from datasets import Dataset"
   ]
  },
  {
   "cell_type": "code",
   "execution_count": 50,
   "id": "151936f1",
   "metadata": {},
   "outputs": [],
   "source": [
    "dataset = bittensor.dataset(no_tokenizer=True, block_size=50)"
   ]
  },
  {
   "cell_type": "code",
   "execution_count": 51,
   "id": "4ba62236",
   "metadata": {},
   "outputs": [],
   "source": [
    "train_dataloader = dataset.dataloader(epoch_length=100)"
   ]
  },
  {
   "cell_type": "code",
   "execution_count": 109,
   "id": "4b6cc4e0",
   "metadata": {},
   "outputs": [],
   "source": [
    "raw_datasets = {\"text\": []}\n",
    "\n",
    "for batch in train_dataloader:\n",
    "    raw_datasets[\"text\"].append(''.join(batch))"
   ]
  },
  {
   "cell_type": "code",
   "execution_count": 114,
   "id": "25de555c",
   "metadata": {},
   "outputs": [],
   "source": [
    "hf_train_dataset = Dataset.from_dict(raw_datasets)\n",
    "hf_train_dataset = hf_train_dataset.train_test_split(test_size=0.2)"
   ]
  },
  {
   "cell_type": "code",
   "execution_count": 112,
   "id": "e0812329",
   "metadata": {},
   "outputs": [
    {
     "data": {
      "text/plain": [
       "DatasetDict({\n",
       "    train: Dataset({\n",
       "        features: ['text'],\n",
       "        num_rows: 80\n",
       "    })\n",
       "    test: Dataset({\n",
       "        features: ['text'],\n",
       "        num_rows: 20\n",
       "    })\n",
       "})"
      ]
     },
     "execution_count": 112,
     "metadata": {},
     "output_type": "execute_result"
    }
   ],
   "source": [
    "hf_train_dataset"
   ]
  },
  {
   "cell_type": "code",
   "execution_count": 56,
   "id": "9a3283c2",
   "metadata": {},
   "outputs": [
    {
     "data": {
      "text/plain": [
       "'upon this request.\\\\n\\\\n\\\\n\\\\n\\\\nRequest ID : 000000000'"
      ]
     },
     "execution_count": 56,
     "metadata": {},
     "output_type": "execute_result"
    }
   ],
   "source": []
  },
  {
   "cell_type": "code",
   "execution_count": null,
   "id": "f7f70785",
   "metadata": {},
   "outputs": [],
   "source": []
  }
 ],
 "metadata": {
  "kernelspec": {
   "display_name": "Python 3 (ipykernel)",
   "language": "python",
   "name": "python3"
  },
  "language_info": {
   "codemirror_mode": {
    "name": "ipython",
    "version": 3
   },
   "file_extension": ".py",
   "mimetype": "text/x-python",
   "name": "python",
   "nbconvert_exporter": "python",
   "pygments_lexer": "ipython3",
   "version": "3.9.10"
  }
 },
 "nbformat": 4,
 "nbformat_minor": 5
}
